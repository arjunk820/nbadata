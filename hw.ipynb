{
 "cells": [
  {
   "cell_type": "markdown",
   "metadata": {},
   "source": [
    "Arjun Kantamsetty\n",
    "January 30, 2025"
   ]
  },
  {
   "cell_type": "code",
   "execution_count": 5,
   "metadata": {},
   "outputs": [],
   "source": [
    "import numpy as np"
   ]
  },
  {
   "cell_type": "code",
   "execution_count": 6,
   "metadata": {},
   "outputs": [],
   "source": [
    "def power_method(A, num_iter=1000, tol=1e-6):\n",
    "    \"\"\"\n",
    "    Purpose: Computers the maximal eigenvalue and its eigenvector using the power method\n",
    "    Expects: A to be a square matrix\n",
    "    Parameters:\n",
    "        - A: square matrix (numpy.ndarray)\n",
    "    Returns: eigenvalue (eigenvalue) and eigenvector (eigen_V)\n",
    "    \"\"\"\n",
    "\n",
    "    n, _ = A.shape\n",
    "    eigen_V = np.random.rand(n)\n",
    "\n",
    "    for _ in range(num_iter):\n",
    "        new_V = np.dot(A, eigen_V)\n",
    "        new_V_norm = np.linalg.norm(new_V)\n",
    "        new_V = new_V / new_V_norm\n",
    "\n",
    "        if np.linalg.norm(new_V - eigen_V) < tol:\n",
    "            break\n",
    "        eigen_V = new_V\n",
    "\n",
    "    eigenvalue = np.dot(eigen_V.T, np.dot(A, eigen_V)) / np.dot(eigen_V.T, eigen_V)\n",
    "    return eigenvalue, eigen_V\n"
   ]
  },
  {
   "cell_type": "code",
   "execution_count": 7,
   "metadata": {},
   "outputs": [
    {
     "name": "stdout",
     "output_type": "stream",
     "text": [
      "Eigenvalue: 7.755665269961389\n",
      "Eigenvector: [0.35410934 0.58124131 0.73264256]\n"
     ]
    }
   ],
   "source": [
    "A = np.array([[.96, 1.72, 1.92], [1.72, .96, 4.56], [1.92, 4.56, 3.21]])\n",
    "eigval, eigvec = power_method(A)\n",
    "print(\"Eigenvalue:\", eigval)\n",
    "print(\"Eigenvector:\", eigvec)"
   ]
  },
  {
   "cell_type": "markdown",
   "metadata": {},
   "source": [
    "The power method is utilized by the PageRank algorithm to calculate the eigenvector\n",
    "pi given eigenvalue of 1. By using the power method, we can get stationary probability distributions to use for each page as a PageRank score very efficiently, which is important for the number of pages Google applies the algorithm to."
   ]
  }
 ],
 "metadata": {
  "kernelspec": {
   "display_name": "ds_env",
   "language": "python",
   "name": "python3"
  },
  "language_info": {
   "codemirror_mode": {
    "name": "ipython",
    "version": 3
   },
   "file_extension": ".py",
   "mimetype": "text/x-python",
   "name": "python",
   "nbconvert_exporter": "python",
   "pygments_lexer": "ipython3",
   "version": "3.12.8"
  }
 },
 "nbformat": 4,
 "nbformat_minor": 2
}
