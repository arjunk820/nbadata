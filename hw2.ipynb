{
 "cells": [
  {
   "cell_type": "code",
   "execution_count": 1,
   "metadata": {},
   "outputs": [
    {
     "name": "stdout",
     "output_type": "stream",
     "text": [
      "Principal Components:\n",
      " [[-0.25952897  0.34437059 -0.90224919]\n",
      " [-0.82462689 -0.56527024  0.02144876]\n",
      " [-0.5026283   0.74958552  0.43068125]]\n"
     ]
    }
   ],
   "source": [
    "import numpy as np\n",
    "\n",
    "# Sample data matrix (m samples, n features)\n",
    "X = np.array([[0.96, 1.72, 1.92], [1.72, 0.96, 3.55], [1.92, 3.55, 3.84]])\n",
    "\n",
    "# Step 1: Center the data\n",
    "X_centered = X - np.mean(X, axis=0)\n",
    "\n",
    "# Step 2: Compute covariance matrix\n",
    "cov_matrix = np.cov(X_centered, rowvar=False)\n",
    "\n",
    "# Step 3: Compute eigenvalues and eigenvectors\n",
    "eigenvalues, eigenvectors = np.linalg.eig(cov_matrix)\n",
    "\n",
    "# Step 4: Sort eigenvectors by descending eigenvalues\n",
    "idx = np.argsort(eigenvalues)[::-1]\n",
    "principal_components = eigenvectors[:, idx]\n",
    "\n",
    "print(\"Principal Components:\\n\", principal_components)"
   ]
  },
  {
   "cell_type": "code",
   "execution_count": null,
   "metadata": {},
   "outputs": [],
   "source": []
  }
 ],
 "metadata": {
  "kernelspec": {
   "display_name": "ds_env",
   "language": "python",
   "name": "python3"
  },
  "language_info": {
   "codemirror_mode": {
    "name": "ipython",
    "version": 3
   },
   "file_extension": ".py",
   "mimetype": "text/x-python",
   "name": "python",
   "nbconvert_exporter": "python",
   "pygments_lexer": "ipython3",
   "version": "3.12.8"
  }
 },
 "nbformat": 4,
 "nbformat_minor": 2
}
