{
 "cells": [
  {
   "cell_type": "code",
   "execution_count": 2,
   "metadata": {},
   "outputs": [],
   "source": [
    "import pandas as pd"
   ]
  },
  {
   "cell_type": "code",
   "execution_count": 12,
   "metadata": {},
   "outputs": [
    {
     "data": {
      "text/plain": [
       "{'Player Name': ['Nikola Jokic', 'Shai Gilgeous-Alexander', 'Luka Doncic'],\n",
       " 'Age': [29, 25, 24],\n",
       " 'Position': ['C', 'PG', 'PG'],\n",
       " 'Games Played': [79, 75, 70],\n",
       " 'Points Per Game': [26.4, 30.1, 33.9],\n",
       " 'Assists Per Game': [9.0, 6.2, 9.8],\n",
       " 'Rebounds Per Game': [12.4, 5.5, 9.8],\n",
       " 'Number of Team Wins Reg. Season': [57, 57, 50],\n",
       " 'Usage Rate': [31.1, 32.5, 36.8],\n",
       " 'Real Plus/Minus': [7.73, 5.28, 5.84],\n",
       " 'Number of Championships': [1, 0, 0],\n",
       " 'Number of MVP Awards': [2, 0, 0],\n",
       " 'Best Single-Game Performance': [46.6, 41.3, 64.0]}"
      ]
     },
     "metadata": {},
     "output_type": "display_data"
    }
   ],
   "source": [
    "data = {\n",
    "    'Player Name': ['Nikola Jokic', 'Shai Gilgeous-Alexander', 'Luka Doncic'],\n",
    "    'Age': [29, 25, 24],\n",
    "    'Position': ['C', 'PG', 'PG'],\n",
    "    'Games Played': [79, 75, 70],\n",
    "    'Points Per Game': [26.4, 30.1, 33.9],\n",
    "    'Assists Per Game': [9.0, 6.2, 9.8],\n",
    "    'Rebounds Per Game': [12.4, 5.5, 9.8],\n",
    "    'Number of Team Wins Reg. Season': [57, 57, 50],\n",
    "    'Usage Rate': [31.1, 32.5, 36.8],\n",
    "    'Real Plus/Minus': [7.73, 5.28, 5.84],\n",
    "    'Number of Championships': [1, 0, 0],\n",
    "    'Number of MVP Awards': [2, 0, 0],\n",
    "    'Best Single-Game Performance': [46.6, 41.3, 64.0]\n",
    "}\n",
    "\n",
    "display(data)"
   ]
  },
  {
   "cell_type": "code",
   "execution_count": null,
   "metadata": {},
   "outputs": [],
   "source": []
  }
 ],
 "metadata": {
  "kernelspec": {
   "display_name": "ds_env",
   "language": "python",
   "name": "python3"
  },
  "language_info": {
   "codemirror_mode": {
    "name": "ipython",
    "version": 3
   },
   "file_extension": ".py",
   "mimetype": "text/x-python",
   "name": "python",
   "nbconvert_exporter": "python",
   "pygments_lexer": "ipython3",
   "version": "3.12.8"
  }
 },
 "nbformat": 4,
 "nbformat_minor": 2
}
